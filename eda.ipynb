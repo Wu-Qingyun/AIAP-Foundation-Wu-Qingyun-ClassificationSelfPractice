{
 "cells": [
  {
   "cell_type": "markdown",
   "id": "c72b3aef",
   "metadata": {},
   "source": [
    "# Exploratory Data Analysis - Coronary Artery Disease Patient Survival\n",
    "\n",
    "This notebook contains a comprehensive analysis of the coronary artery disease patient dataset, including data loading, preprocessing, visualization, and statistical analysis."
   ]
  },
  {
   "cell_type": "code",
   "execution_count": null,
   "id": "b5bbcd45",
   "metadata": {},
   "outputs": [],
   "source": [
    "# Import required libraries\n",
    "import os\n",
    "import pandas as pd\n",
    "import numpy as np\n",
    "import matplotlib.pyplot as plt\n",
    "import seaborn as sns\n",
    "from scipy import stats\n",
    "\n",
    "# Set plot style\n",
    "plt.style.use('seaborn-v0_8-whitegrid')\n",
    "sns.set(font_scale=1.2)\n",
    "\n",
    "# Display all columns\n",
    "pd.set_option('display.max_columns', None)"
   ]
  },
  {
   "cell_type": "markdown",
   "id": "5aa003b2",
   "metadata": {},
   "source": [
    "## 1. Data Loading and Initial Inspection"
   ]
  },
  {
   "cell_type": "code",
   "execution_count": null,
   "id": "47584428",
   "metadata": {},
   "outputs": [],
   "source": [
    "# Load the dataset\n",
    "df = pd.read_csv('data/data.csv')\n",
    "\n",
    "# Display basic information\n",
    "print(\"Dataset Shape:\", df.shape)\n",
    "print(\"\\nFirst few rows:\")\n",
    "df.head()"
   ]
  },
  {
   "cell_type": "code",
   "execution_count": null,
   "id": "d2559527",
   "metadata": {},
   "outputs": [],
   "source": [
    "# Display dataset info\n",
    "print(\"Dataset Info:\")\n",
    "df.info()"
   ]
  },
  {
   "cell_type": "code",
   "execution_count": null,
   "id": "520faa50",
   "metadata": {},
   "outputs": [],
   "source": [
    "# Display basic statistics\n",
    "print(\"Basic Statistics:\")\n",
    "df.describe(include='all')"
   ]
  },
  {
   "cell_type": "markdown",
   "id": "b4425b0d",
   "metadata": {},
   "source": [
    "## 2. Data Type Checking and Conversion"
   ]
  },
  {
   "cell_type": "code",
   "execution_count": null,
   "id": "66b7e9c1",
   "metadata": {},
   "outputs": [],
   "source": [
    "# Create a DataFrame with data types\n",
    "dtype_df = pd.DataFrame({\n",
    "    'Column': df.dtypes.index,\n",
    "    'Data Type': df.dtypes.values,\n",
    "    'Example Value': [df[col].iloc[0] if not df[col].empty else None for col in df.columns]\n",
    "})\n",
    "\n",
    "dtype_df"
   ]
  },
  {
   "cell_type": "code",
   "execution_count": null,
   "id": "22bc0145",
   "metadata": {},
   "outputs": [],
   "source": [
    "# Convert data types\n",
    "# Make a copy of the DataFrame\n",
    "df_converted = df.copy()\n",
    "\n",
    "# List of numerical columns\n",
    "numerical_cols = ['Age', 'Ejection Fraction', 'Sodium', 'Creatinine', 'Platelets', \n",
    "                   'CPK', 'Blood Pressure', 'Hemoglobin', 'Height', 'Weight']\n",
    "\n",
    "# Convert numerical columns to float\n",
    "for col in numerical_cols:\n",
    "    if col in df_converted.columns:\n",
    "        df_converted[col] = pd.to_numeric(df_converted[col], errors='coerce')\n",
    "        print(f\"Converted {col} to numeric type\")\n",
    "\n",
    "# Convert categorical columns to category type\n",
    "categorical_cols = ['Gender', 'Smoke', 'Diabetes']\n",
    "for col in categorical_cols:\n",
    "    if col in df_converted.columns:\n",
    "        df_converted[col] = df_converted[col].astype('category')\n",
    "        print(f\"Converted {col} to category type\")\n",
    "\n",
    "# Convert target column to integer\n",
    "if 'Survive' in df_converted.columns:\n",
    "    df_converted['Survive'] = df_converted['Survive'].astype(int)\n",
    "    print(\"Converted Survive to integer type\")\n",
    "\n",
    "# Update the DataFrame\n",
    "df = df_converted\n",
    "\n",
    "# Check data types after conversion\n",
    "df.dtypes"
   ]
  },
  {
   "cell_type": "markdown",
   "id": "f278e4a9",
   "metadata": {},
   "source": [
    "## 3. Handling Duplicate Rows"
   ]
  },
  {
   "cell_type": "code",
   "execution_count": null,
   "id": "dc79f29a",
   "metadata": {},
   "outputs": [],
   "source": [
    "# Check for duplicate rows\n",
    "dup_count = df.duplicated().sum()\n",
    "print(f\"Number of duplicate rows: {dup_count}\")\n",
    "\n",
    "# If there are duplicates, display them\n",
    "if dup_count > 0:\n",
    "    duplicates = df[df.duplicated(keep='first')]\n",
    "    print(\"Examples of duplicate rows:\")\n",
    "    duplicates.head()"
   ]
  },
  {
   "cell_type": "code",
   "execution_count": null,
   "id": "cc90457f",
   "metadata": {},
   "outputs": [],
   "source": [
    "# Drop duplicates if any\n",
    "df_no_dups = df.drop_duplicates()\n",
    "print(f\"Number of rows removed: {len(df) - len(df_no_dups)}\")\n",
    "\n",
    "# Update the DataFrame\n",
    "df = df_no_dups"
   ]
  },
  {
   "cell_type": "markdown",
   "id": "0f7017f5",
   "metadata": {},
   "source": [
    "## 4. Missing Values Analysis"
   ]
  },
  {
   "cell_type": "code",
   "execution_count": null,
   "id": "b81d2725",
   "metadata": {},
   "outputs": [],
   "source": [
    "# Check for missing values\n",
    "missing_values = df.isnull().sum()\n",
    "missing_percentage = (missing_values / len(df)) * 100\n",
    "\n",
    "# Create a DataFrame with missing value information\n",
    "missing_df = pd.DataFrame({\n",
    "    'Missing Values': missing_values,\n",
    "    'Percentage': missing_percentage\n",
    "})\n",
    "\n",
    "# Sort by percentage of missing values and show only features with missing values\n",
    "missing_df = missing_df[missing_df['Missing Values'] > 0].sort_values('Percentage', ascending=False)\n",
    "\n",
    "# Display missing values summary\n",
    "missing_df"
   ]
  },
  {
   "cell_type": "code",
   "execution_count": null,
   "id": "cbfa0b18",
   "metadata": {},
   "outputs": [],
   "source": [
    "# Visualize missing values\n",
    "if not missing_df.empty:\n",
    "    plt.figure(figsize=(12, 6))\n",
    "    sns.barplot(x=missing_df.index, y='Percentage', data=missing_df)\n",
    "    plt.title('Percentage of Missing Values by Feature')\n",
    "    plt.xlabel('Features')\n",
    "    plt.ylabel('Missing Values (%')\n",
    "\",\n",
    "    \"    plt.xticks(rotation=45)\n",
    "\",\n",
    "    \"    plt.tight_layout()\n",
    "\",\n",
    "    \"    plt.show()"
   ]
  },
  {
   "cell_type": "markdown",
   "id": "9dad637f",
   "metadata": {},
   "source": [
    "## 5. Outlier Analysis"
   ]
  },
  {
   "cell_type": "code",
   "execution_count": null,
   "id": "f361a22f",
   "metadata": {},
   "outputs": [],
   "source": [
    "# Create a DataFrame to store outlier information\n",
    "outlier_info = []\n",
    "\n",
    "# For each numerical column, calculate outliers using IQR method\n",
    "for col in numerical_cols:\n",
    "    # Calculate Q1, Q3, and IQR\n",
    "    Q1 = df[col].quantile(0.25)\n",
    "    Q3 = df[col].quantile(0.75)\n",
    "    IQR = Q3 - Q1\n",
    "    \n",
    "    # Define outlier bounds\n",
    "    lower_bound = Q1 - 1.5 * IQR\n",
    "    upper_bound = Q3 + 1.5 * IQR\n",
    "    \n",
    "    # Count outliers\n",
    "    outliers_lower = (df[col] < lower_bound).sum()\n",
    "    outliers_upper = (df[col] > upper_bound).sum()\n",
    "    total_outliers = outliers_lower + outliers_upper\n",
    "    \n",
    "    # Calculate percentage of outliers\n",
    "    percentage = (total_outliers / len(df)) * 100\n",
    "    \n",
    "    # Add to outlier info\n",
    "    outlier_info.append({\n",
    "        'Feature': col,\n",
    "        'Lower Bound': lower_bound,\n",
    "        'Upper Bound': upper_bound,\n",
    "        'Lower Outliers': outliers_lower,\n",
    "        'Upper Outliers': outliers_upper,\n",
    "        'Total Outliers': total_outliers,\n",
    "        'Percentage': percentage\n",
    "    })\n",
    "\n",
    "# Create a DataFrame with outlier information\n",
    "outlier_df = pd.DataFrame(outlier_info)\n",
    "outlier_df"
   ]
  },
  {
   "cell_type": "code",
   "execution_count": null,
   "id": "c1582900",
   "metadata": {},
   "outputs": [],
   "source": [
    "# Visualize outlier percentages\n",
    "plt.figure(figsize=(12, 6))\n",
    "sns.barplot(x='Feature', y='Percentage', data=outlier_df)\n",
    "plt.title('Percentage of Outliers by Feature')\n",
    "plt.xlabel('Features')\n",
    "plt.ylabel('Outliers (%')\n",
    "\",\n",
    "\"plt.xticks(rotation=45)\n",
    "\",\n",
    "\"plt.tight_layout()\n",
    "\",\n",
    "\"plt.show()"
   ]
  },
  {
   "cell_type": "markdown",
   "id": "977531a2",
   "metadata": {},
   "source": [
    "## 6. Target Variable Analysis"
   ]
  },
  {
   "cell_type": "code",
   "execution_count": null,
   "id": "7837ce23",
   "metadata": {},
   "outputs": [],
   "source": [
    "# Analyze target variable distribution\n",
    "target_counts = df['Survive'].value_counts()\n",
    "target_percent = (target_counts / len(df)) * 100\n",
    "\n",
    "print(\"Target Variable Distribution:\")\n",
    "print(f\"Survive = 1 (Survived): {target_counts.get(1, 0)} ({target_percent.get(1, 0):.2f}%)\")\n",
    "print(f\"Survive = 0 (Not Survived): {target_counts.get(0, 0)} ({target_percent.get(0, 0):.2f}%)\")\n",
    "\n",
    "# Visualize target distribution\n",
    "plt.figure(figsize=(10, 6))\n",
    "sns.countplot(x=df['Survive'])\n",
    "plt.title('Target Variable Distribution (Survive)')\n",
    "plt.xlabel('Survive (0 = No, 1 = Yes)')\n",
    "plt.ylabel('Count')\n",
    "\n",
    "# Add count labels\n",
    "for i, count in enumerate(target_counts):\n",
    "    plt.text(i, count + 50, f\"{count} ({target_percent.iloc[i]:.2f}%)\", ha='center')\n",
    "\n",
    "plt.tight_layout()\n",
    "plt.show()"
   ]
  },
  {
   "cell_type": "markdown",
   "id": "078c3bed",
   "metadata": {},
   "source": [
    "## 7. Categorical Features Analysis"
   ]
  },
  {
   "cell_type": "code",
   "execution_count": null,
   "id": "0aa244f4",
   "metadata": {},
   "outputs": [],
   "source": [
    "# Analyze categorical features\n",
    "for col in categorical_cols:\n",
    "    # Count values\n",
    "    value_counts = df[col].value_counts()\n",
    "    value_percent = (value_counts / len(df)) * 100\n",
    "    \n",
    "    print(f\"\\nDistribution of {col}:\")\n",
    "    for value, count in value_counts.items():\n",
    "        print(f\"{value}: {count} ({value_percent[value]:.2f}%)\")\n",
    "    \n",
    "    # Visualize distribution\n",
    "    plt.figure(figsize=(10, 6))\n",
    "    sns.countplot(x=df[col])\n",
    "    plt.title(f'Distribution of {col}')\n",
    "    plt.xlabel(col)\n",
    "    plt.ylabel('Count')\n",
    "    plt.xticks(rotation=45)\n",
    "    plt.tight_layout()\n",
    "    plt.show()\n",
    "    \n",
    "    # Analyze relationship with target variable\n",
    "    if 'Survive' in df.columns:\n",
    "        # Create cross-tabulation\n",
    "        crosstab = pd.crosstab(df[col], df['Survive'])\n",
    "        crosstab_percent = crosstab.div(crosstab.sum(axis=1), axis=0) * 100\n",
    "        \n",
    "        # Visualize relationship\n",
    "        plt.figure(figsize=(10, 6))\n",
    "        crosstab_percent.plot(kind='bar', stacked=True)\n",
    "        plt.title(f'Relationship between {col} and Survive')\n",
    "        plt.xlabel(col)\n",
    "        plt.ylabel('Percentage (%')\n",
    "\",\n",
    "        \"        plt.legend(['Not Survived (0)', 'Survived (1)'])\n",
    "\",\n",
    "        \"        plt.tight_layout()\n",
    "\",\n",
    "        \"        plt.show()\n",
    "\",\n",
    "        \"        \n",
    "\",\n",
    "        \"        # Chi-square test for independence\n",
    "\",\n",
    "        \"        chi2, p, dof, expected = stats.chi2_contingency(crosstab)\n",
    "\",\n",
    "        \"        print(f\"Chi-square test for {col} vs Survive: chi2={chi2:.4f}, p-value={p:.4f}\")"
   ]
  },
  {
   "cell_type": "markdown",
   "id": "c6b9ecde",
   "metadata": {},
   "source": [
    "## 8. Numerical Features Analysis"
   ]
  },
  {
   "cell_type": "code",
   "execution_count": null,
   "id": "7f41f8f2",
   "metadata": {},
   "outputs": [],
   "source": [
    "# Analyze numerical features\n",
    "for col in numerical_cols:\n",
    "    if col in df.columns and not df[col].isnull().all():\n",
    "        # Calculate statistics\n",
    "        stats_dict = {\n",
    "            'Mean': df[col].mean(),\n",
    "            'Median': df[col].median(),\n",
    "            'Std Dev': df[col].std(),\n",
    "            'Min': df[col].min(),\n",
    "            'Max': df[col].max(),\n",
    "            'Skewness': df[col].skew(),\n",
    "            'Kurtosis': df[col].kurt()\n",
    "        }\n",
    "        \n",
    "        print(f\"\\nStatistics for {col}:\")\n",
    "        for stat, value in stats_dict.items():\n",
    "            print(f\"{stat}: {value:.4f}\")\n",
    "        \n",
    "        # Visualize distribution\n",
    "        plt.figure(figsize=(10, 6))\n",
    "        sns.histplot(df[col], kde=True)\n",
    "        plt.title(f'Distribution of {col}')\n",
    "        plt.xlabel(col)\n",
    "        plt.ylabel('Count')\n",
    "        plt.tight_layout()\n",
    "        plt.show()\n",
    "        \n",
    "        # Analyze relationship with target variable\n",
    "        if 'Survive' in df.columns:\n",
    "            # Visualize relationship\n",
    "            plt.figure(figsize=(10, 6))\n",
    "            sns.boxplot(x='Survive', y=col, data=df)\n",
    "            plt.title(f'Relationship between {col} and Survive')\n",
    "            plt.xlabel('Survive (0 = No, 1 = Yes)')\n",
    "            plt.ylabel(col)\n",
    "            plt.tight_layout()\n",
    "            plt.show()\n",
    "            \n",
    "            # T-test for difference in means\n",
    "            survived = df[df['Survive'] == 1][col].dropna()\n",
    "            not_survived = df[df['Survive'] == 0][col].dropna()\n",
    "            \n",
    "            if len(survived) > 0 and len(not_survived) > 0:\n",
    "                t_stat, p_value = stats.ttest_ind(survived, not_survived, equal_var=False)\n",
    "                print(f\"T-test for {col} vs Survive: t={t_stat:.4f}, p-value={p_value:.4f}\")"
   ]
  },
  {
   "cell_type": "markdown",
   "id": "acf5e5bc",
   "metadata": {},
   "source": [
    "## 9. Correlation Analysis"
   ]
  },
  {
   "cell_type": "code",
   "execution_count": null,
   "id": "2792f077",
   "metadata": {},
   "outputs": [],
   "source": [
    "# Create correlation matrix\n",
    "# Select valid columns\n",
    "valid_cols = [col for col in numerical_cols if col in df.columns and not df[col].isnull().all()]\n",
    "\n",
    "# Add target variable if available\n",
    "if 'Survive' in df.columns:\n",
    "    valid_cols.append('Survive')\n",
    "\n",
    "# Calculate correlation matrix\n",
    "correlation_matrix = df[valid_cols].corr()\n",
    "\n",
    "# Visualize correlation matrix\n",
    "plt.figure(figsize=(12, 10))\n",
    "sns.heatmap(correlation_matrix, annot=True, cmap='coolwarm', center=0, fmt='.2f')\n",
    "plt.title('Correlation Matrix of Numerical Features')\n",
    "plt.tight_layout()\n",
    "plt.show()"
   ]
  },
  {
   "cell_type": "code",
   "execution_count": null,
   "id": "2e032ef5",
   "metadata": {},
   "outputs": [],
   "source": [
    "# If target variable exists, analyze feature importance based on correlation\n",
    "if 'Survive' in df.columns:\n",
    "    target_corr = correlation_matrix['Survive'].drop('Survive')\n",
    "    target_corr_abs = target_corr.abs().sort_values(ascending=False)\n",
    "    \n",
    "    # Create a DataFrame for visualization\n",
    "    importance_df = pd.DataFrame({\n",
    "        'Feature': target_corr_abs.index,\n",
    "        'Correlation': target_corr[target_corr_abs.index],\n",
    "        'Absolute Correlation': target_corr_abs.values\n",
    "    })\n",
    "    \n",
    "    # Visualize feature importance\n",
    "    plt.figure(figsize=(12, 6))\n",
    "    sns.barplot(x='Feature', y='Absolute Correlation', data=importance_df)\n",
    "    plt.title('Feature Importance Based on Correlation with Survival')\n",
    "    plt.xlabel('Features')\n",
    "    plt.ylabel('Absolute Correlation')\n",
    "    plt.xticks(rotation=45)\n",
    "    plt.tight_layout()\n",
    "    plt.show()"
   ]
  },
  {
   "cell_type": "markdown",
   "id": "809f095f",
   "metadata": {},
   "source": [
    "## 10. Summary and Recommendations\n",
    "\n",
    "Based on our exploratory data analysis, here are the key findings and recommendations:\n",
    "\n",
    "### Key Findings:\n",
    "1. The dataset contains 15,000 records with 16 features (10 numerical, 3 categorical).\n",
    "2. Missing values are present in 'Ejection Fraction' (100%) and 'Creatinine' (3.33%).\n",
    "3. Several numerical features show outliers, particularly in 'Creatinine' (10.09%) and 'Creatine phosphokinase' (9.89%).\n",
    "4. The target variable (Survive) shows class imbalance with 67.90% not survived and 32.10% survived.\n",
    "5. The most important features correlated with survival are Weight (0.41), Creatinine (0.30), and Sodium (-0.22).\n",
    "\n",
    "### Recommendations:\n",
    "1. Handle missing values, especially in 'Ejection Fraction' which is completely missing.\n",
    "2. Address outliers in numerical features, particularly in 'Creatinine' and 'Creatine phosphokinase'.\n",
    "3. Consider class imbalance techniques during model training.\n",
    "4. Focus on the most important features identified in the correlation analysis.\n",
    "5. Try multiple classification models and compare their performance."
   ]
  }
 ],
 "metadata": {
  "language_info": {
   "name": "python"
  }
 },
 "nbformat": 4,
 "nbformat_minor": 5
}
